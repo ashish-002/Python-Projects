{
  "nbformat": 4,
  "nbformat_minor": 0,
  "metadata": {
    "colab": {
      "provenance": [],
      "authorship_tag": "ABX9TyNouFDLFO4S3XjxdCJFOb81"
    },
    "kernelspec": {
      "name": "python3",
      "display_name": "Python 3"
    },
    "language_info": {
      "name": "python"
    }
  },
  "cells": [
    {
      "cell_type": "code",
      "execution_count": 21,
      "metadata": {
        "colab": {
          "base_uri": "https://localhost:8080/"
        },
        "id": "7P5wjg8I1--k",
        "outputId": "2bafd8cc-e291-4e5f-9530-52f6d6cf73ab"
      },
      "outputs": [
        {
          "output_type": "stream",
          "name": "stdout",
          "text": [
            "Data saved to: /home/raw_data.json\n"
          ]
        }
      ],
      "source": [
        "import requests\n",
        "import json\n",
        "\n",
        "url = 'https://www.alphavantage.co/query?function=NEWS_SENTIMENT&tickers=TSLA&time_from=20000101T0130&limit=10000&apikey=MLM2BRQZ9PL2JJ9J'\n",
        "r = requests.get(url)\n",
        "data = r.json()\n",
        "\n",
        "file_path = '/home/raw_data.json'\n",
        "\n",
        "with open(file_path, 'w') as file:\n",
        "    json.dump(data, file)\n",
        "\n",
        "print(f'Data saved to: {file_path}')"
      ]
    },
    {
      "cell_type": "code",
      "source": [
        "# Import necessary modules\n",
        "from pyspark.sql import SparkSession\n",
        "\n",
        "# Create a Spark session\n",
        "spark = SparkSession.builder \\\n",
        "    .appName(\"GoogleColabSparkSession\") \\\n",
        "    .getOrCreate()\n",
        "\n",
        "# Check if the Spark session is created successfully\n",
        "print(spark.version)"
      ],
      "metadata": {
        "id": "Ktw6sk018aUV"
      },
      "execution_count": null,
      "outputs": []
    },
    {
      "cell_type": "code",
      "source": [
        "tesla_df = spark.read \\\n",
        ".format('json') \\\n",
        ".option('header','true') \\\n",
        ".load('/home/raw_data.json')"
      ],
      "metadata": {
        "id": "B_Vkuxl7BZXV"
      },
      "execution_count": 22,
      "outputs": []
    },
    {
      "cell_type": "code",
      "source": [
        "tesla_df.printSchema()"
      ],
      "metadata": {
        "colab": {
          "base_uri": "https://localhost:8080/"
        },
        "id": "HP7AvInSDwuD",
        "outputId": "2edf7c66-cf93-4b23-b464-d837250b016f"
      },
      "execution_count": 23,
      "outputs": [
        {
          "output_type": "stream",
          "name": "stdout",
          "text": [
            "root\n",
            " |-- feed: array (nullable = true)\n",
            " |    |-- element: struct (containsNull = true)\n",
            " |    |    |-- authors: array (nullable = true)\n",
            " |    |    |    |-- element: string (containsNull = true)\n",
            " |    |    |-- banner_image: string (nullable = true)\n",
            " |    |    |-- category_within_source: string (nullable = true)\n",
            " |    |    |-- overall_sentiment_label: string (nullable = true)\n",
            " |    |    |-- overall_sentiment_score: double (nullable = true)\n",
            " |    |    |-- source: string (nullable = true)\n",
            " |    |    |-- source_domain: string (nullable = true)\n",
            " |    |    |-- summary: string (nullable = true)\n",
            " |    |    |-- ticker_sentiment: array (nullable = true)\n",
            " |    |    |    |-- element: struct (containsNull = true)\n",
            " |    |    |    |    |-- relevance_score: string (nullable = true)\n",
            " |    |    |    |    |-- ticker: string (nullable = true)\n",
            " |    |    |    |    |-- ticker_sentiment_label: string (nullable = true)\n",
            " |    |    |    |    |-- ticker_sentiment_score: string (nullable = true)\n",
            " |    |    |-- time_published: string (nullable = true)\n",
            " |    |    |-- title: string (nullable = true)\n",
            " |    |    |-- topics: array (nullable = true)\n",
            " |    |    |    |-- element: struct (containsNull = true)\n",
            " |    |    |    |    |-- relevance_score: string (nullable = true)\n",
            " |    |    |    |    |-- topic: string (nullable = true)\n",
            " |    |    |-- url: string (nullable = true)\n",
            " |-- items: string (nullable = true)\n",
            " |-- relevance_score_definition: string (nullable = true)\n",
            " |-- sentiment_score_definition: string (nullable = true)\n",
            "\n"
          ]
        }
      ]
    },
    {
      "cell_type": "code",
      "source": [
        "from pyspark.sql.functions import col, explode\n",
        "\n",
        "# Explode the 'feed' array column\n",
        "exploded_df = tesla_df.select(\n",
        "    col(\"items\"),\n",
        "    col(\"relevance_score_definition\"),\n",
        "    col(\"sentiment_score_definition\"),\n",
        "    explode(\"feed\").alias(\"feed_exploded\")\n",
        ")\n",
        "\n",
        "# Flatten the nested structure within the exploded 'feed' column\n",
        "flattened_df = exploded_df.select(\n",
        "    col(\"items\"),\n",
        "    col(\"relevance_score_definition\"),\n",
        "    col(\"sentiment_score_definition\"),\n",
        "    col(\"feed_exploded.authors\"),\n",
        "    col(\"feed_exploded.banner_image\"),\n",
        "    col(\"feed_exploded.category_within_source\"),\n",
        "    col(\"feed_exploded.overall_sentiment_label\"),\n",
        "    col(\"feed_exploded.overall_sentiment_score\"),\n",
        "    col(\"feed_exploded.source\"),\n",
        "    col(\"feed_exploded.source_domain\"),\n",
        "    col(\"feed_exploded.summary\"),\n",
        "    col(\"feed_exploded.ticker_sentiment\"),\n",
        "    col(\"feed_exploded.time_published\"),\n",
        "    col(\"feed_exploded.title\"),\n",
        "    col(\"feed_exploded.topics\"),\n",
        "    col(\"feed_exploded.url\")\n",
        ")\n",
        "\n",
        "# Explode the 'ticker_sentiment' array column\n",
        "exploded_ticker_sentiment_df = flattened_df.select(\n",
        "    col(\"items\"),\n",
        "    col(\"relevance_score_definition\"),\n",
        "    col(\"sentiment_score_definition\"),\n",
        "    col(\"authors\"),\n",
        "    col(\"banner_image\"),\n",
        "    col(\"category_within_source\"),\n",
        "    col(\"overall_sentiment_label\"),\n",
        "    col(\"overall_sentiment_score\"),\n",
        "    col(\"source\"),\n",
        "    col(\"source_domain\"),\n",
        "    col(\"summary\"),\n",
        "    explode(\"ticker_sentiment\").alias(\"ticker_sentiment_exploded\"),\n",
        "    col(\"time_published\"),\n",
        "    col(\"title\"),\n",
        "    col(\"topics\"),\n",
        "    col(\"url\")\n",
        ")\n",
        "\n",
        "# Select individual elements from the exploded 'ticker_sentiment' array\n",
        "final_ticker_sentiment_df = exploded_ticker_sentiment_df.select(\n",
        "    col(\"items\"),\n",
        "    col(\"relevance_score_definition\"),\n",
        "    col(\"sentiment_score_definition\"),\n",
        "    col(\"authors\"),\n",
        "    col(\"banner_image\"),\n",
        "    col(\"category_within_source\"),\n",
        "    col(\"overall_sentiment_label\"),\n",
        "    col(\"overall_sentiment_score\"),\n",
        "    col(\"source\"),\n",
        "    col(\"source_domain\"),\n",
        "    col(\"summary\"),\n",
        "    col(\"ticker_sentiment_exploded.relevance_score\").alias(\"ticker_relevance_score\"),\n",
        "    col(\"ticker_sentiment_exploded.ticker\").alias(\"ticker\"),\n",
        "    col(\"ticker_sentiment_exploded.ticker_sentiment_label\").alias(\"ticker_sentiment_label\"),\n",
        "    col(\"ticker_sentiment_exploded.ticker_sentiment_score\").alias(\"ticker_sentiment_score\"),\n",
        "    col(\"time_published\"),\n",
        "    col(\"title\"),\n",
        "    col(\"topics\"),\n",
        "    col(\"url\")\n",
        ")\n",
        "\n",
        "# Explode the 'topics' array column\n",
        "exploded_topics_df = final_ticker_sentiment_df.select(\n",
        "    col(\"items\"),\n",
        "    col(\"relevance_score_definition\"),\n",
        "    col(\"sentiment_score_definition\"),\n",
        "    col(\"authors\"),\n",
        "    col(\"banner_image\"),\n",
        "    col(\"category_within_source\"),\n",
        "    col(\"overall_sentiment_label\"),\n",
        "    col(\"overall_sentiment_score\"),\n",
        "    col(\"source\"),\n",
        "    col(\"source_domain\"),\n",
        "    col(\"summary\"),\n",
        "    col(\"ticker_relevance_score\"),\n",
        "    col(\"ticker\"),\n",
        "    col(\"ticker_sentiment_label\"),\n",
        "    col(\"ticker_sentiment_score\"),\n",
        "    col(\"time_published\"),\n",
        "    col(\"title\"),\n",
        "    explode(\"topics\").alias(\"topics_exploded\"),\n",
        "    col(\"url\")\n",
        ")\n",
        "\n",
        "# Select individual elements from the exploded 'topics' array\n",
        "proc_df = exploded_topics_df.select(\n",
        "    col(\"items\"),\n",
        "    col(\"relevance_score_definition\"),\n",
        "    col(\"sentiment_score_definition\"),\n",
        "    col(\"authors\"),\n",
        "    col(\"banner_image\"),\n",
        "    col(\"category_within_source\"),\n",
        "    col(\"overall_sentiment_label\"),\n",
        "    col(\"overall_sentiment_score\"),\n",
        "    col(\"source\"),\n",
        "    col(\"source_domain\"),\n",
        "    col(\"summary\"),\n",
        "    col(\"ticker_relevance_score\"),\n",
        "    col(\"ticker\"),\n",
        "    col(\"ticker_sentiment_label\"),\n",
        "    col(\"ticker_sentiment_score\"),\n",
        "    col(\"time_published\"),\n",
        "    col(\"title\"),\n",
        "    col(\"topics_exploded.relevance_score\").alias(\"topic_relevance_score\"),\n",
        "    col(\"topics_exploded.topic\").alias(\"topic\"),\n",
        "    col(\"url\")\n",
        ")\n",
        "\n",
        "# Show the final DataFrame\n",
        "proc_df.show(truncate=False)"
      ],
      "metadata": {
        "colab": {
          "base_uri": "https://localhost:8080/"
        },
        "id": "qCHFc_GdH1od",
        "outputId": "ad5ac4fa-6c83-4a21-a917-339b2064c565"
      },
      "execution_count": 24,
      "outputs": [
        {
          "output_type": "stream",
          "name": "stdout",
          "text": [
            "+-----+------------------------------------------------------------+--------------------------------------------------------------------------------------------------------------------------------------------+------------------+-------------------------------------------------------------------------------------------------------------------------------+----------------------+-----------------------+-----------------------+-----------------+-------------------------+----------------------------------------------------------------------------------------------------------------------------------------------------------------------------------------------------------------------------------------------------------------------------+----------------------+------+----------------------+----------------------+---------------+--------------------------------------------------------------------------------------------------------------------------------------------------------------+---------------------+-----------------------+---------------------------------------------------------------------------------------------------------------------------------------------------------+\n",
            "|items|relevance_score_definition                                  |sentiment_score_definition                                                                                                                  |authors           |banner_image                                                                                                                   |category_within_source|overall_sentiment_label|overall_sentiment_score|source           |source_domain            |summary                                                                                                                                                                                                                                                                     |ticker_relevance_score|ticker|ticker_sentiment_label|ticker_sentiment_score|time_published |title                                                                                                                                                         |topic_relevance_score|topic                  |url                                                                                                                                                      |\n",
            "+-----+------------------------------------------------------------+--------------------------------------------------------------------------------------------------------------------------------------------+------------------+-------------------------------------------------------------------------------------------------------------------------------+----------------------+-----------------------+-----------------------+-----------------+-------------------------+----------------------------------------------------------------------------------------------------------------------------------------------------------------------------------------------------------------------------------------------------------------------------+----------------------+------+----------------------+----------------------+---------------+--------------------------------------------------------------------------------------------------------------------------------------------------------------+---------------------+-----------------------+---------------------------------------------------------------------------------------------------------------------------------------------------------+\n",
            "|691  |0 < x <= 1, with a higher score indicating higher relevance.|x <= -0.35: Bearish; -0.35 < x <= -0.15: Somewhat-Bearish; -0.15 < x < 0.15: Neutral; 0.15 <= x < 0.35: Somewhat_Bullish; x >= 0.35: Bullish|[Benzinga Neuro]  |https://cdn.benzinga.com/files/images/story/2024/An-electric-car-based-on-Volkswagens-MEB.jpeg?width=1200&height=800&fit=crop  |News                  |Somewhat-Bullish       |0.230325               |Benzinga         |www.benzinga.com         |In a recent report by market research firm Rho Motion, global electric vehicle ( EV ) sales experienced a significant increase of 31% in 2023 despite a slowdown in growth.                                                                                                 |0.09989               |BYDDF |Neutral               |0.045542              |20240111T082853|Global Electric Vehicle Market Records 31% Sales Boom In 2023: Report - Tesla  ( NASDAQ:TSLA )                                                                |1.0                  |Manufacturing          |https://www.benzinga.com/news/24/01/36589115/global-electric-vehicle-market-records-31-sales-boom-in-2023-report                                         |\n",
            "|691  |0 < x <= 1, with a higher score indicating higher relevance.|x <= -0.35: Bearish; -0.35 < x <= -0.15: Somewhat-Bearish; -0.15 < x < 0.15: Neutral; 0.15 <= x < 0.35: Somewhat_Bullish; x >= 0.35: Bullish|[Benzinga Neuro]  |https://cdn.benzinga.com/files/images/story/2024/An-electric-car-based-on-Volkswagens-MEB.jpeg?width=1200&height=800&fit=crop  |News                  |Somewhat-Bullish       |0.230325               |Benzinga         |www.benzinga.com         |In a recent report by market research firm Rho Motion, global electric vehicle ( EV ) sales experienced a significant increase of 31% in 2023 despite a slowdown in growth.                                                                                                 |0.09989               |TSLA  |Neutral               |0.045542              |20240111T082853|Global Electric Vehicle Market Records 31% Sales Boom In 2023: Report - Tesla  ( NASDAQ:TSLA )                                                                |1.0                  |Manufacturing          |https://www.benzinga.com/news/24/01/36589115/global-electric-vehicle-market-records-31-sales-boom-in-2023-report                                         |\n",
            "|691  |0 < x <= 1, with a higher score indicating higher relevance.|x <= -0.35: Bearish; -0.35 < x <= -0.15: Somewhat-Bearish; -0.15 < x < 0.15: Neutral; 0.15 <= x < 0.35: Somewhat_Bullish; x >= 0.35: Bullish|[Reuters]         |https://bsmedia.business-standard.com/_media/bs/img/article/2017-10/22/full/1508667557-8377.jpg?im=FitAndFill=(826,465)        |GoogleRSS             |Neutral                |0.093293               |Business Standard|www.business-standard.com|Toyota logos are seen at City Toyota in Daly City, California, US | Photo: Reuters Japan's Toyota Motor is set to launch within a couple of years vehicles with solid-state batteries that charge faster and last longer, a top official of its India unit said on Thursday.|0.195814              |TM    |Somewhat-Bullish      |0.215754              |20240111T073248|Toyota to roll out solid-state battery EVs in couple of years: Report                                                                                         |0.108179             |Financial Markets      |https://www.business-standard.com/companies/news/toyota-to-roll-out-solid-state-battery-evs-in-couple-of-years-report-124011100277_1.html                |\n",
            "|691  |0 < x <= 1, with a higher score indicating higher relevance.|x <= -0.35: Bearish; -0.35 < x <= -0.15: Somewhat-Bearish; -0.15 < x < 0.15: Neutral; 0.15 <= x < 0.35: Somewhat_Bullish; x >= 0.35: Bullish|[Reuters]         |https://bsmedia.business-standard.com/_media/bs/img/article/2017-10/22/full/1508667557-8377.jpg?im=FitAndFill=(826,465)        |GoogleRSS             |Neutral                |0.093293               |Business Standard|www.business-standard.com|Toyota logos are seen at City Toyota in Daly City, California, US | Photo: Reuters Japan's Toyota Motor is set to launch within a couple of years vehicles with solid-state batteries that charge faster and last longer, a top official of its India unit said on Thursday.|0.195814              |TM    |Somewhat-Bullish      |0.215754              |20240111T073248|Toyota to roll out solid-state battery EVs in couple of years: Report                                                                                         |1.0                  |Manufacturing          |https://www.business-standard.com/companies/news/toyota-to-roll-out-solid-state-battery-evs-in-couple-of-years-report-124011100277_1.html                |\n",
            "|691  |0 < x <= 1, with a higher score indicating higher relevance.|x <= -0.35: Bearish; -0.35 < x <= -0.15: Somewhat-Bearish; -0.15 < x < 0.15: Neutral; 0.15 <= x < 0.35: Somewhat_Bullish; x >= 0.35: Bullish|[Reuters]         |https://bsmedia.business-standard.com/_media/bs/img/article/2017-10/22/full/1508667557-8377.jpg?im=FitAndFill=(826,465)        |GoogleRSS             |Neutral                |0.093293               |Business Standard|www.business-standard.com|Toyota logos are seen at City Toyota in Daly City, California, US | Photo: Reuters Japan's Toyota Motor is set to launch within a couple of years vehicles with solid-state batteries that charge faster and last longer, a top official of its India unit said on Thursday.|0.195814              |TSLA  |Neutral               |0.099123              |20240111T073248|Toyota to roll out solid-state battery EVs in couple of years: Report                                                                                         |0.108179             |Financial Markets      |https://www.business-standard.com/companies/news/toyota-to-roll-out-solid-state-battery-evs-in-couple-of-years-report-124011100277_1.html                |\n",
            "|691  |0 < x <= 1, with a higher score indicating higher relevance.|x <= -0.35: Bearish; -0.35 < x <= -0.15: Somewhat-Bearish; -0.15 < x < 0.15: Neutral; 0.15 <= x < 0.35: Somewhat_Bullish; x >= 0.35: Bullish|[Reuters]         |https://bsmedia.business-standard.com/_media/bs/img/article/2017-10/22/full/1508667557-8377.jpg?im=FitAndFill=(826,465)        |GoogleRSS             |Neutral                |0.093293               |Business Standard|www.business-standard.com|Toyota logos are seen at City Toyota in Daly City, California, US | Photo: Reuters Japan's Toyota Motor is set to launch within a couple of years vehicles with solid-state batteries that charge faster and last longer, a top official of its India unit said on Thursday.|0.195814              |TSLA  |Neutral               |0.099123              |20240111T073248|Toyota to roll out solid-state battery EVs in couple of years: Report                                                                                         |1.0                  |Manufacturing          |https://www.business-standard.com/companies/news/toyota-to-roll-out-solid-state-battery-evs-in-couple-of-years-report-124011100277_1.html                |\n",
            "|691  |0 < x <= 1, with a higher score indicating higher relevance.|x <= -0.35: Bearish; -0.35 < x <= -0.15: Somewhat-Bearish; -0.15 < x < 0.15: Neutral; 0.15 <= x < 0.35: Somewhat_Bullish; x >= 0.35: Bullish|[]                |https://images.moneycontrol.com/static-mcnews/2023/06/Toyota-EV-2-770x433.jpg                                                  |Business              |Neutral                |0.100385               |Money Control    |www.moneycontrol.com     |Solid-state batteries promise to dramatically improve the driving range of electric vehicles ( EVs ) , a key element of a strategic pivot Toyota unveiled in June to make up for ground lost to Tesla and Chinese rivals, such as BYD, in the EV race.                      |0.214937              |TM    |Somewhat-Bullish      |0.231319              |20240111T071431|Toyota to roll out solid-state battery EVs in a couple of years, India executive says                                                                         |0.108179             |Financial Markets      |https://www.moneycontrol.com/news/business/toyota-to-roll-out-solid-state-battery-evs-in-a-couple-of-years-india-executive-says-12033841.html            |\n",
            "|691  |0 < x <= 1, with a higher score indicating higher relevance.|x <= -0.35: Bearish; -0.35 < x <= -0.15: Somewhat-Bearish; -0.15 < x < 0.15: Neutral; 0.15 <= x < 0.35: Somewhat_Bullish; x >= 0.35: Bullish|[]                |https://images.moneycontrol.com/static-mcnews/2023/06/Toyota-EV-2-770x433.jpg                                                  |Business              |Neutral                |0.100385               |Money Control    |www.moneycontrol.com     |Solid-state batteries promise to dramatically improve the driving range of electric vehicles ( EVs ) , a key element of a strategic pivot Toyota unveiled in June to make up for ground lost to Tesla and Chinese rivals, such as BYD, in the EV race.                      |0.214937              |TM    |Somewhat-Bullish      |0.231319              |20240111T071431|Toyota to roll out solid-state battery EVs in a couple of years, India executive says                                                                         |1.0                  |Manufacturing          |https://www.moneycontrol.com/news/business/toyota-to-roll-out-solid-state-battery-evs-in-a-couple-of-years-india-executive-says-12033841.html            |\n",
            "|691  |0 < x <= 1, with a higher score indicating higher relevance.|x <= -0.35: Bearish; -0.35 < x <= -0.15: Somewhat-Bearish; -0.15 < x < 0.15: Neutral; 0.15 <= x < 0.35: Somewhat_Bullish; x >= 0.35: Bullish|[]                |https://images.moneycontrol.com/static-mcnews/2023/06/Toyota-EV-2-770x433.jpg                                                  |Business              |Neutral                |0.100385               |Money Control    |www.moneycontrol.com     |Solid-state batteries promise to dramatically improve the driving range of electric vehicles ( EVs ) , a key element of a strategic pivot Toyota unveiled in June to make up for ground lost to Tesla and Chinese rivals, such as BYD, in the EV race.                      |0.214937              |TSLA  |Neutral               |0.106492              |20240111T071431|Toyota to roll out solid-state battery EVs in a couple of years, India executive says                                                                         |0.108179             |Financial Markets      |https://www.moneycontrol.com/news/business/toyota-to-roll-out-solid-state-battery-evs-in-a-couple-of-years-india-executive-says-12033841.html            |\n",
            "|691  |0 < x <= 1, with a higher score indicating higher relevance.|x <= -0.35: Bearish; -0.35 < x <= -0.15: Somewhat-Bearish; -0.15 < x < 0.15: Neutral; 0.15 <= x < 0.35: Somewhat_Bullish; x >= 0.35: Bullish|[]                |https://images.moneycontrol.com/static-mcnews/2023/06/Toyota-EV-2-770x433.jpg                                                  |Business              |Neutral                |0.100385               |Money Control    |www.moneycontrol.com     |Solid-state batteries promise to dramatically improve the driving range of electric vehicles ( EVs ) , a key element of a strategic pivot Toyota unveiled in June to make up for ground lost to Tesla and Chinese rivals, such as BYD, in the EV race.                      |0.214937              |TSLA  |Neutral               |0.106492              |20240111T071431|Toyota to roll out solid-state battery EVs in a couple of years, India executive says                                                                         |1.0                  |Manufacturing          |https://www.moneycontrol.com/news/business/toyota-to-roll-out-solid-state-battery-evs-in-a-couple-of-years-india-executive-says-12033841.html            |\n",
            "|691  |0 < x <= 1, with a higher score indicating higher relevance.|x <= -0.35: Bearish; -0.35 < x <= -0.15: Somewhat-Bearish; -0.15 < x < 0.15: Neutral; 0.15 <= x < 0.35: Somewhat_Bullish; x >= 0.35: Bullish|[Benzinga Neuro]  |https://cdn.benzinga.com/files/images/story/2024/Paris--France---June-16--2023-Elon-Musk-_6.jpeg?width=1200&height=800&fit=crop|General               |Neutral                |-0.087502              |Benzinga         |www.benzinga.com         |In a recent turn of events, prominent civil rights organizations have criticized Elon Musk for his comments suggesting that diversity hiring at Boeing Co. and United Airlines Holdings Inc. is negatively impacting air travel safety.                                     |0.172713              |UAL   |Neutral               |-0.028328             |20240111T070943|Civil Rights Groups Slam Elon Musk For Blaming Boeing 737 Max 9 Safety Issues On Diversity Hiring: 'Abhorrent And Pathetic'                                   |0.5                  |Energy & Transportation|https://www.benzinga.com/news/24/01/36588771/civil-rights-groups-slam-elon-musk-for-blaming-boeing-737-max-9-safety-issues-on-diversity-hiring-ab        |\n",
            "|691  |0 < x <= 1, with a higher score indicating higher relevance.|x <= -0.35: Bearish; -0.35 < x <= -0.15: Somewhat-Bearish; -0.15 < x < 0.15: Neutral; 0.15 <= x < 0.35: Somewhat_Bullish; x >= 0.35: Bullish|[Benzinga Neuro]  |https://cdn.benzinga.com/files/images/story/2024/Paris--France---June-16--2023-Elon-Musk-_6.jpeg?width=1200&height=800&fit=crop|General               |Neutral                |-0.087502              |Benzinga         |www.benzinga.com         |In a recent turn of events, prominent civil rights organizations have criticized Elon Musk for his comments suggesting that diversity hiring at Boeing Co. and United Airlines Holdings Inc. is negatively impacting air travel safety.                                     |0.172713              |UAL   |Neutral               |-0.028328             |20240111T070943|Civil Rights Groups Slam Elon Musk For Blaming Boeing 737 Max 9 Safety Issues On Diversity Hiring: 'Abhorrent And Pathetic'                                   |0.108179             |Financial Markets      |https://www.benzinga.com/news/24/01/36588771/civil-rights-groups-slam-elon-musk-for-blaming-boeing-737-max-9-safety-issues-on-diversity-hiring-ab        |\n",
            "|691  |0 < x <= 1, with a higher score indicating higher relevance.|x <= -0.35: Bearish; -0.35 < x <= -0.15: Somewhat-Bearish; -0.15 < x < 0.15: Neutral; 0.15 <= x < 0.35: Somewhat_Bullish; x >= 0.35: Bullish|[Benzinga Neuro]  |https://cdn.benzinga.com/files/images/story/2024/Paris--France---June-16--2023-Elon-Musk-_6.jpeg?width=1200&height=800&fit=crop|General               |Neutral                |-0.087502              |Benzinga         |www.benzinga.com         |In a recent turn of events, prominent civil rights organizations have criticized Elon Musk for his comments suggesting that diversity hiring at Boeing Co. and United Airlines Holdings Inc. is negatively impacting air travel safety.                                     |0.172713              |UAL   |Neutral               |-0.028328             |20240111T070943|Civil Rights Groups Slam Elon Musk For Blaming Boeing 737 Max 9 Safety Issues On Diversity Hiring: 'Abhorrent And Pathetic'                                   |0.5                  |Manufacturing          |https://www.benzinga.com/news/24/01/36588771/civil-rights-groups-slam-elon-musk-for-blaming-boeing-737-max-9-safety-issues-on-diversity-hiring-ab        |\n",
            "|691  |0 < x <= 1, with a higher score indicating higher relevance.|x <= -0.35: Bearish; -0.35 < x <= -0.15: Somewhat-Bearish; -0.15 < x < 0.15: Neutral; 0.15 <= x < 0.35: Somewhat_Bullish; x >= 0.35: Bullish|[Benzinga Neuro]  |https://cdn.benzinga.com/files/images/story/2024/Paris--France---June-16--2023-Elon-Musk-_6.jpeg?width=1200&height=800&fit=crop|General               |Neutral                |-0.087502              |Benzinga         |www.benzinga.com         |In a recent turn of events, prominent civil rights organizations have criticized Elon Musk for his comments suggesting that diversity hiring at Boeing Co. and United Airlines Holdings Inc. is negatively impacting air travel safety.                                     |0.414559              |BA    |Neutral               |0.005755              |20240111T070943|Civil Rights Groups Slam Elon Musk For Blaming Boeing 737 Max 9 Safety Issues On Diversity Hiring: 'Abhorrent And Pathetic'                                   |0.5                  |Energy & Transportation|https://www.benzinga.com/news/24/01/36588771/civil-rights-groups-slam-elon-musk-for-blaming-boeing-737-max-9-safety-issues-on-diversity-hiring-ab        |\n",
            "|691  |0 < x <= 1, with a higher score indicating higher relevance.|x <= -0.35: Bearish; -0.35 < x <= -0.15: Somewhat-Bearish; -0.15 < x < 0.15: Neutral; 0.15 <= x < 0.35: Somewhat_Bullish; x >= 0.35: Bullish|[Benzinga Neuro]  |https://cdn.benzinga.com/files/images/story/2024/Paris--France---June-16--2023-Elon-Musk-_6.jpeg?width=1200&height=800&fit=crop|General               |Neutral                |-0.087502              |Benzinga         |www.benzinga.com         |In a recent turn of events, prominent civil rights organizations have criticized Elon Musk for his comments suggesting that diversity hiring at Boeing Co. and United Airlines Holdings Inc. is negatively impacting air travel safety.                                     |0.414559              |BA    |Neutral               |0.005755              |20240111T070943|Civil Rights Groups Slam Elon Musk For Blaming Boeing 737 Max 9 Safety Issues On Diversity Hiring: 'Abhorrent And Pathetic'                                   |0.108179             |Financial Markets      |https://www.benzinga.com/news/24/01/36588771/civil-rights-groups-slam-elon-musk-for-blaming-boeing-737-max-9-safety-issues-on-diversity-hiring-ab        |\n",
            "|691  |0 < x <= 1, with a higher score indicating higher relevance.|x <= -0.35: Bearish; -0.35 < x <= -0.15: Somewhat-Bearish; -0.15 < x < 0.15: Neutral; 0.15 <= x < 0.35: Somewhat_Bullish; x >= 0.35: Bullish|[Benzinga Neuro]  |https://cdn.benzinga.com/files/images/story/2024/Paris--France---June-16--2023-Elon-Musk-_6.jpeg?width=1200&height=800&fit=crop|General               |Neutral                |-0.087502              |Benzinga         |www.benzinga.com         |In a recent turn of events, prominent civil rights organizations have criticized Elon Musk for his comments suggesting that diversity hiring at Boeing Co. and United Airlines Holdings Inc. is negatively impacting air travel safety.                                     |0.414559              |BA    |Neutral               |0.005755              |20240111T070943|Civil Rights Groups Slam Elon Musk For Blaming Boeing 737 Max 9 Safety Issues On Diversity Hiring: 'Abhorrent And Pathetic'                                   |0.5                  |Manufacturing          |https://www.benzinga.com/news/24/01/36588771/civil-rights-groups-slam-elon-musk-for-blaming-boeing-737-max-9-safety-issues-on-diversity-hiring-ab        |\n",
            "|691  |0 < x <= 1, with a higher score indicating higher relevance.|x <= -0.35: Bearish; -0.35 < x <= -0.15: Somewhat-Bearish; -0.15 < x < 0.15: Neutral; 0.15 <= x < 0.35: Somewhat_Bullish; x >= 0.35: Bullish|[Benzinga Neuro]  |https://cdn.benzinga.com/files/images/story/2024/Paris--France---June-16--2023-Elon-Musk-_6.jpeg?width=1200&height=800&fit=crop|General               |Neutral                |-0.087502              |Benzinga         |www.benzinga.com         |In a recent turn of events, prominent civil rights organizations have criticized Elon Musk for his comments suggesting that diversity hiring at Boeing Co. and United Airlines Holdings Inc. is negatively impacting air travel safety.                                     |0.08687               |TSLA  |Somewhat-Bearish      |-0.17044              |20240111T070943|Civil Rights Groups Slam Elon Musk For Blaming Boeing 737 Max 9 Safety Issues On Diversity Hiring: 'Abhorrent And Pathetic'                                   |0.5                  |Energy & Transportation|https://www.benzinga.com/news/24/01/36588771/civil-rights-groups-slam-elon-musk-for-blaming-boeing-737-max-9-safety-issues-on-diversity-hiring-ab        |\n",
            "|691  |0 < x <= 1, with a higher score indicating higher relevance.|x <= -0.35: Bearish; -0.35 < x <= -0.15: Somewhat-Bearish; -0.15 < x < 0.15: Neutral; 0.15 <= x < 0.35: Somewhat_Bullish; x >= 0.35: Bullish|[Benzinga Neuro]  |https://cdn.benzinga.com/files/images/story/2024/Paris--France---June-16--2023-Elon-Musk-_6.jpeg?width=1200&height=800&fit=crop|General               |Neutral                |-0.087502              |Benzinga         |www.benzinga.com         |In a recent turn of events, prominent civil rights organizations have criticized Elon Musk for his comments suggesting that diversity hiring at Boeing Co. and United Airlines Holdings Inc. is negatively impacting air travel safety.                                     |0.08687               |TSLA  |Somewhat-Bearish      |-0.17044              |20240111T070943|Civil Rights Groups Slam Elon Musk For Blaming Boeing 737 Max 9 Safety Issues On Diversity Hiring: 'Abhorrent And Pathetic'                                   |0.108179             |Financial Markets      |https://www.benzinga.com/news/24/01/36588771/civil-rights-groups-slam-elon-musk-for-blaming-boeing-737-max-9-safety-issues-on-diversity-hiring-ab        |\n",
            "|691  |0 < x <= 1, with a higher score indicating higher relevance.|x <= -0.35: Bearish; -0.35 < x <= -0.15: Somewhat-Bearish; -0.15 < x < 0.15: Neutral; 0.15 <= x < 0.35: Somewhat_Bullish; x >= 0.35: Bullish|[Benzinga Neuro]  |https://cdn.benzinga.com/files/images/story/2024/Paris--France---June-16--2023-Elon-Musk-_6.jpeg?width=1200&height=800&fit=crop|General               |Neutral                |-0.087502              |Benzinga         |www.benzinga.com         |In a recent turn of events, prominent civil rights organizations have criticized Elon Musk for his comments suggesting that diversity hiring at Boeing Co. and United Airlines Holdings Inc. is negatively impacting air travel safety.                                     |0.08687               |TSLA  |Somewhat-Bearish      |-0.17044              |20240111T070943|Civil Rights Groups Slam Elon Musk For Blaming Boeing 737 Max 9 Safety Issues On Diversity Hiring: 'Abhorrent And Pathetic'                                   |0.5                  |Manufacturing          |https://www.benzinga.com/news/24/01/36588771/civil-rights-groups-slam-elon-musk-for-blaming-boeing-737-max-9-safety-issues-on-diversity-hiring-ab        |\n",
            "|691  |0 < x <= 1, with a higher score indicating higher relevance.|x <= -0.35: Bearish; -0.35 < x <= -0.15: Somewhat-Bearish; -0.15 < x < 0.15: Neutral; 0.15 <= x < 0.35: Somewhat_Bullish; x >= 0.35: Bullish|[Shanthi Rexaline]|https://cdn.benzinga.com/files/images/story/2024/Indianapolis---Circa-March-2016-Tesla-Mo.jpeg?width=1200&height=800&fit=crop  |News                  |Neutral                |-0.019455              |Benzinga         |www.benzinga.com         |Tesla, Inc. TSLA will continue to rule the U.S. electric vehicle market, according to tech venture capitalist Gene Munster.                                                                                                                                                 |0.172713              |F     |Somewhat-Bearish      |-0.299291             |20240111T070607|Tesla's Dominance To Continue In 2024, But Traditional Automakers' Move To Slow Down EV Game 'Will Come Back To Haunt Them:' Munster - Tesla  ( NASDAQ:TSLA ) |0.266143             |Financial Markets      |https://www.benzinga.com/analyst-ratings/analyst-color/24/01/36588749/teslas-dominance-to-continue-in-2024-but-traditional-automakers-move-to-slow-down-e|\n",
            "+-----+------------------------------------------------------------+--------------------------------------------------------------------------------------------------------------------------------------------+------------------+-------------------------------------------------------------------------------------------------------------------------------+----------------------+-----------------------+-----------------------+-----------------+-------------------------+----------------------------------------------------------------------------------------------------------------------------------------------------------------------------------------------------------------------------------------------------------------------------+----------------------+------+----------------------+----------------------+---------------+--------------------------------------------------------------------------------------------------------------------------------------------------------------+---------------------+-----------------------+---------------------------------------------------------------------------------------------------------------------------------------------------------+\n",
            "only showing top 20 rows\n",
            "\n"
          ]
        }
      ]
    },
    {
      "cell_type": "code",
      "source": [
        "from pyspark.sql.functions import concat_ws\n",
        "\n",
        "# Concatenate array elements into a single string\n",
        "tesladata_df = proc_df.withColumn(\"authors_str\", concat_ws(\",\", col(\"authors\")))\n",
        "\n",
        "# Drop the original array column\n",
        "tesladata_df = proc_df.drop(\"authors\")\n",
        "\n",
        "# Show the modified DataFrame\n",
        "tesladata_df.show(truncate=False)"
      ],
      "metadata": {
        "colab": {
          "base_uri": "https://localhost:8080/"
        },
        "id": "p6fyGKgDsOKN",
        "outputId": "79f140c8-a1a5-431f-da35-2cb08388fa87"
      },
      "execution_count": 25,
      "outputs": [
        {
          "output_type": "stream",
          "name": "stdout",
          "text": [
            "+-----+------------------------------------------------------------+--------------------------------------------------------------------------------------------------------------------------------------------+-------------------------------------------------------------------------------------------------------------------------------+----------------------+-----------------------+-----------------------+-----------------+-------------------------+----------------------------------------------------------------------------------------------------------------------------------------------------------------------------------------------------------------------------------------------------------------------------+----------------------+------+----------------------+----------------------+---------------+--------------------------------------------------------------------------------------------------------------------------------------------------------------+---------------------+-----------------------+---------------------------------------------------------------------------------------------------------------------------------------------------------+\n",
            "|items|relevance_score_definition                                  |sentiment_score_definition                                                                                                                  |banner_image                                                                                                                   |category_within_source|overall_sentiment_label|overall_sentiment_score|source           |source_domain            |summary                                                                                                                                                                                                                                                                     |ticker_relevance_score|ticker|ticker_sentiment_label|ticker_sentiment_score|time_published |title                                                                                                                                                         |topic_relevance_score|topic                  |url                                                                                                                                                      |\n",
            "+-----+------------------------------------------------------------+--------------------------------------------------------------------------------------------------------------------------------------------+-------------------------------------------------------------------------------------------------------------------------------+----------------------+-----------------------+-----------------------+-----------------+-------------------------+----------------------------------------------------------------------------------------------------------------------------------------------------------------------------------------------------------------------------------------------------------------------------+----------------------+------+----------------------+----------------------+---------------+--------------------------------------------------------------------------------------------------------------------------------------------------------------+---------------------+-----------------------+---------------------------------------------------------------------------------------------------------------------------------------------------------+\n",
            "|691  |0 < x <= 1, with a higher score indicating higher relevance.|x <= -0.35: Bearish; -0.35 < x <= -0.15: Somewhat-Bearish; -0.15 < x < 0.15: Neutral; 0.15 <= x < 0.35: Somewhat_Bullish; x >= 0.35: Bullish|https://cdn.benzinga.com/files/images/story/2024/An-electric-car-based-on-Volkswagens-MEB.jpeg?width=1200&height=800&fit=crop  |News                  |Somewhat-Bullish       |0.230325               |Benzinga         |www.benzinga.com         |In a recent report by market research firm Rho Motion, global electric vehicle ( EV ) sales experienced a significant increase of 31% in 2023 despite a slowdown in growth.                                                                                                 |0.09989               |BYDDF |Neutral               |0.045542              |20240111T082853|Global Electric Vehicle Market Records 31% Sales Boom In 2023: Report - Tesla  ( NASDAQ:TSLA )                                                                |1.0                  |Manufacturing          |https://www.benzinga.com/news/24/01/36589115/global-electric-vehicle-market-records-31-sales-boom-in-2023-report                                         |\n",
            "|691  |0 < x <= 1, with a higher score indicating higher relevance.|x <= -0.35: Bearish; -0.35 < x <= -0.15: Somewhat-Bearish; -0.15 < x < 0.15: Neutral; 0.15 <= x < 0.35: Somewhat_Bullish; x >= 0.35: Bullish|https://cdn.benzinga.com/files/images/story/2024/An-electric-car-based-on-Volkswagens-MEB.jpeg?width=1200&height=800&fit=crop  |News                  |Somewhat-Bullish       |0.230325               |Benzinga         |www.benzinga.com         |In a recent report by market research firm Rho Motion, global electric vehicle ( EV ) sales experienced a significant increase of 31% in 2023 despite a slowdown in growth.                                                                                                 |0.09989               |TSLA  |Neutral               |0.045542              |20240111T082853|Global Electric Vehicle Market Records 31% Sales Boom In 2023: Report - Tesla  ( NASDAQ:TSLA )                                                                |1.0                  |Manufacturing          |https://www.benzinga.com/news/24/01/36589115/global-electric-vehicle-market-records-31-sales-boom-in-2023-report                                         |\n",
            "|691  |0 < x <= 1, with a higher score indicating higher relevance.|x <= -0.35: Bearish; -0.35 < x <= -0.15: Somewhat-Bearish; -0.15 < x < 0.15: Neutral; 0.15 <= x < 0.35: Somewhat_Bullish; x >= 0.35: Bullish|https://bsmedia.business-standard.com/_media/bs/img/article/2017-10/22/full/1508667557-8377.jpg?im=FitAndFill=(826,465)        |GoogleRSS             |Neutral                |0.093293               |Business Standard|www.business-standard.com|Toyota logos are seen at City Toyota in Daly City, California, US | Photo: Reuters Japan's Toyota Motor is set to launch within a couple of years vehicles with solid-state batteries that charge faster and last longer, a top official of its India unit said on Thursday.|0.195814              |TM    |Somewhat-Bullish      |0.215754              |20240111T073248|Toyota to roll out solid-state battery EVs in couple of years: Report                                                                                         |0.108179             |Financial Markets      |https://www.business-standard.com/companies/news/toyota-to-roll-out-solid-state-battery-evs-in-couple-of-years-report-124011100277_1.html                |\n",
            "|691  |0 < x <= 1, with a higher score indicating higher relevance.|x <= -0.35: Bearish; -0.35 < x <= -0.15: Somewhat-Bearish; -0.15 < x < 0.15: Neutral; 0.15 <= x < 0.35: Somewhat_Bullish; x >= 0.35: Bullish|https://bsmedia.business-standard.com/_media/bs/img/article/2017-10/22/full/1508667557-8377.jpg?im=FitAndFill=(826,465)        |GoogleRSS             |Neutral                |0.093293               |Business Standard|www.business-standard.com|Toyota logos are seen at City Toyota in Daly City, California, US | Photo: Reuters Japan's Toyota Motor is set to launch within a couple of years vehicles with solid-state batteries that charge faster and last longer, a top official of its India unit said on Thursday.|0.195814              |TM    |Somewhat-Bullish      |0.215754              |20240111T073248|Toyota to roll out solid-state battery EVs in couple of years: Report                                                                                         |1.0                  |Manufacturing          |https://www.business-standard.com/companies/news/toyota-to-roll-out-solid-state-battery-evs-in-couple-of-years-report-124011100277_1.html                |\n",
            "|691  |0 < x <= 1, with a higher score indicating higher relevance.|x <= -0.35: Bearish; -0.35 < x <= -0.15: Somewhat-Bearish; -0.15 < x < 0.15: Neutral; 0.15 <= x < 0.35: Somewhat_Bullish; x >= 0.35: Bullish|https://bsmedia.business-standard.com/_media/bs/img/article/2017-10/22/full/1508667557-8377.jpg?im=FitAndFill=(826,465)        |GoogleRSS             |Neutral                |0.093293               |Business Standard|www.business-standard.com|Toyota logos are seen at City Toyota in Daly City, California, US | Photo: Reuters Japan's Toyota Motor is set to launch within a couple of years vehicles with solid-state batteries that charge faster and last longer, a top official of its India unit said on Thursday.|0.195814              |TSLA  |Neutral               |0.099123              |20240111T073248|Toyota to roll out solid-state battery EVs in couple of years: Report                                                                                         |0.108179             |Financial Markets      |https://www.business-standard.com/companies/news/toyota-to-roll-out-solid-state-battery-evs-in-couple-of-years-report-124011100277_1.html                |\n",
            "|691  |0 < x <= 1, with a higher score indicating higher relevance.|x <= -0.35: Bearish; -0.35 < x <= -0.15: Somewhat-Bearish; -0.15 < x < 0.15: Neutral; 0.15 <= x < 0.35: Somewhat_Bullish; x >= 0.35: Bullish|https://bsmedia.business-standard.com/_media/bs/img/article/2017-10/22/full/1508667557-8377.jpg?im=FitAndFill=(826,465)        |GoogleRSS             |Neutral                |0.093293               |Business Standard|www.business-standard.com|Toyota logos are seen at City Toyota in Daly City, California, US | Photo: Reuters Japan's Toyota Motor is set to launch within a couple of years vehicles with solid-state batteries that charge faster and last longer, a top official of its India unit said on Thursday.|0.195814              |TSLA  |Neutral               |0.099123              |20240111T073248|Toyota to roll out solid-state battery EVs in couple of years: Report                                                                                         |1.0                  |Manufacturing          |https://www.business-standard.com/companies/news/toyota-to-roll-out-solid-state-battery-evs-in-couple-of-years-report-124011100277_1.html                |\n",
            "|691  |0 < x <= 1, with a higher score indicating higher relevance.|x <= -0.35: Bearish; -0.35 < x <= -0.15: Somewhat-Bearish; -0.15 < x < 0.15: Neutral; 0.15 <= x < 0.35: Somewhat_Bullish; x >= 0.35: Bullish|https://images.moneycontrol.com/static-mcnews/2023/06/Toyota-EV-2-770x433.jpg                                                  |Business              |Neutral                |0.100385               |Money Control    |www.moneycontrol.com     |Solid-state batteries promise to dramatically improve the driving range of electric vehicles ( EVs ) , a key element of a strategic pivot Toyota unveiled in June to make up for ground lost to Tesla and Chinese rivals, such as BYD, in the EV race.                      |0.214937              |TM    |Somewhat-Bullish      |0.231319              |20240111T071431|Toyota to roll out solid-state battery EVs in a couple of years, India executive says                                                                         |0.108179             |Financial Markets      |https://www.moneycontrol.com/news/business/toyota-to-roll-out-solid-state-battery-evs-in-a-couple-of-years-india-executive-says-12033841.html            |\n",
            "|691  |0 < x <= 1, with a higher score indicating higher relevance.|x <= -0.35: Bearish; -0.35 < x <= -0.15: Somewhat-Bearish; -0.15 < x < 0.15: Neutral; 0.15 <= x < 0.35: Somewhat_Bullish; x >= 0.35: Bullish|https://images.moneycontrol.com/static-mcnews/2023/06/Toyota-EV-2-770x433.jpg                                                  |Business              |Neutral                |0.100385               |Money Control    |www.moneycontrol.com     |Solid-state batteries promise to dramatically improve the driving range of electric vehicles ( EVs ) , a key element of a strategic pivot Toyota unveiled in June to make up for ground lost to Tesla and Chinese rivals, such as BYD, in the EV race.                      |0.214937              |TM    |Somewhat-Bullish      |0.231319              |20240111T071431|Toyota to roll out solid-state battery EVs in a couple of years, India executive says                                                                         |1.0                  |Manufacturing          |https://www.moneycontrol.com/news/business/toyota-to-roll-out-solid-state-battery-evs-in-a-couple-of-years-india-executive-says-12033841.html            |\n",
            "|691  |0 < x <= 1, with a higher score indicating higher relevance.|x <= -0.35: Bearish; -0.35 < x <= -0.15: Somewhat-Bearish; -0.15 < x < 0.15: Neutral; 0.15 <= x < 0.35: Somewhat_Bullish; x >= 0.35: Bullish|https://images.moneycontrol.com/static-mcnews/2023/06/Toyota-EV-2-770x433.jpg                                                  |Business              |Neutral                |0.100385               |Money Control    |www.moneycontrol.com     |Solid-state batteries promise to dramatically improve the driving range of electric vehicles ( EVs ) , a key element of a strategic pivot Toyota unveiled in June to make up for ground lost to Tesla and Chinese rivals, such as BYD, in the EV race.                      |0.214937              |TSLA  |Neutral               |0.106492              |20240111T071431|Toyota to roll out solid-state battery EVs in a couple of years, India executive says                                                                         |0.108179             |Financial Markets      |https://www.moneycontrol.com/news/business/toyota-to-roll-out-solid-state-battery-evs-in-a-couple-of-years-india-executive-says-12033841.html            |\n",
            "|691  |0 < x <= 1, with a higher score indicating higher relevance.|x <= -0.35: Bearish; -0.35 < x <= -0.15: Somewhat-Bearish; -0.15 < x < 0.15: Neutral; 0.15 <= x < 0.35: Somewhat_Bullish; x >= 0.35: Bullish|https://images.moneycontrol.com/static-mcnews/2023/06/Toyota-EV-2-770x433.jpg                                                  |Business              |Neutral                |0.100385               |Money Control    |www.moneycontrol.com     |Solid-state batteries promise to dramatically improve the driving range of electric vehicles ( EVs ) , a key element of a strategic pivot Toyota unveiled in June to make up for ground lost to Tesla and Chinese rivals, such as BYD, in the EV race.                      |0.214937              |TSLA  |Neutral               |0.106492              |20240111T071431|Toyota to roll out solid-state battery EVs in a couple of years, India executive says                                                                         |1.0                  |Manufacturing          |https://www.moneycontrol.com/news/business/toyota-to-roll-out-solid-state-battery-evs-in-a-couple-of-years-india-executive-says-12033841.html            |\n",
            "|691  |0 < x <= 1, with a higher score indicating higher relevance.|x <= -0.35: Bearish; -0.35 < x <= -0.15: Somewhat-Bearish; -0.15 < x < 0.15: Neutral; 0.15 <= x < 0.35: Somewhat_Bullish; x >= 0.35: Bullish|https://cdn.benzinga.com/files/images/story/2024/Paris--France---June-16--2023-Elon-Musk-_6.jpeg?width=1200&height=800&fit=crop|General               |Neutral                |-0.087502              |Benzinga         |www.benzinga.com         |In a recent turn of events, prominent civil rights organizations have criticized Elon Musk for his comments suggesting that diversity hiring at Boeing Co. and United Airlines Holdings Inc. is negatively impacting air travel safety.                                     |0.172713              |UAL   |Neutral               |-0.028328             |20240111T070943|Civil Rights Groups Slam Elon Musk For Blaming Boeing 737 Max 9 Safety Issues On Diversity Hiring: 'Abhorrent And Pathetic'                                   |0.5                  |Energy & Transportation|https://www.benzinga.com/news/24/01/36588771/civil-rights-groups-slam-elon-musk-for-blaming-boeing-737-max-9-safety-issues-on-diversity-hiring-ab        |\n",
            "|691  |0 < x <= 1, with a higher score indicating higher relevance.|x <= -0.35: Bearish; -0.35 < x <= -0.15: Somewhat-Bearish; -0.15 < x < 0.15: Neutral; 0.15 <= x < 0.35: Somewhat_Bullish; x >= 0.35: Bullish|https://cdn.benzinga.com/files/images/story/2024/Paris--France---June-16--2023-Elon-Musk-_6.jpeg?width=1200&height=800&fit=crop|General               |Neutral                |-0.087502              |Benzinga         |www.benzinga.com         |In a recent turn of events, prominent civil rights organizations have criticized Elon Musk for his comments suggesting that diversity hiring at Boeing Co. and United Airlines Holdings Inc. is negatively impacting air travel safety.                                     |0.172713              |UAL   |Neutral               |-0.028328             |20240111T070943|Civil Rights Groups Slam Elon Musk For Blaming Boeing 737 Max 9 Safety Issues On Diversity Hiring: 'Abhorrent And Pathetic'                                   |0.108179             |Financial Markets      |https://www.benzinga.com/news/24/01/36588771/civil-rights-groups-slam-elon-musk-for-blaming-boeing-737-max-9-safety-issues-on-diversity-hiring-ab        |\n",
            "|691  |0 < x <= 1, with a higher score indicating higher relevance.|x <= -0.35: Bearish; -0.35 < x <= -0.15: Somewhat-Bearish; -0.15 < x < 0.15: Neutral; 0.15 <= x < 0.35: Somewhat_Bullish; x >= 0.35: Bullish|https://cdn.benzinga.com/files/images/story/2024/Paris--France---June-16--2023-Elon-Musk-_6.jpeg?width=1200&height=800&fit=crop|General               |Neutral                |-0.087502              |Benzinga         |www.benzinga.com         |In a recent turn of events, prominent civil rights organizations have criticized Elon Musk for his comments suggesting that diversity hiring at Boeing Co. and United Airlines Holdings Inc. is negatively impacting air travel safety.                                     |0.172713              |UAL   |Neutral               |-0.028328             |20240111T070943|Civil Rights Groups Slam Elon Musk For Blaming Boeing 737 Max 9 Safety Issues On Diversity Hiring: 'Abhorrent And Pathetic'                                   |0.5                  |Manufacturing          |https://www.benzinga.com/news/24/01/36588771/civil-rights-groups-slam-elon-musk-for-blaming-boeing-737-max-9-safety-issues-on-diversity-hiring-ab        |\n",
            "|691  |0 < x <= 1, with a higher score indicating higher relevance.|x <= -0.35: Bearish; -0.35 < x <= -0.15: Somewhat-Bearish; -0.15 < x < 0.15: Neutral; 0.15 <= x < 0.35: Somewhat_Bullish; x >= 0.35: Bullish|https://cdn.benzinga.com/files/images/story/2024/Paris--France---June-16--2023-Elon-Musk-_6.jpeg?width=1200&height=800&fit=crop|General               |Neutral                |-0.087502              |Benzinga         |www.benzinga.com         |In a recent turn of events, prominent civil rights organizations have criticized Elon Musk for his comments suggesting that diversity hiring at Boeing Co. and United Airlines Holdings Inc. is negatively impacting air travel safety.                                     |0.414559              |BA    |Neutral               |0.005755              |20240111T070943|Civil Rights Groups Slam Elon Musk For Blaming Boeing 737 Max 9 Safety Issues On Diversity Hiring: 'Abhorrent And Pathetic'                                   |0.5                  |Energy & Transportation|https://www.benzinga.com/news/24/01/36588771/civil-rights-groups-slam-elon-musk-for-blaming-boeing-737-max-9-safety-issues-on-diversity-hiring-ab        |\n",
            "|691  |0 < x <= 1, with a higher score indicating higher relevance.|x <= -0.35: Bearish; -0.35 < x <= -0.15: Somewhat-Bearish; -0.15 < x < 0.15: Neutral; 0.15 <= x < 0.35: Somewhat_Bullish; x >= 0.35: Bullish|https://cdn.benzinga.com/files/images/story/2024/Paris--France---June-16--2023-Elon-Musk-_6.jpeg?width=1200&height=800&fit=crop|General               |Neutral                |-0.087502              |Benzinga         |www.benzinga.com         |In a recent turn of events, prominent civil rights organizations have criticized Elon Musk for his comments suggesting that diversity hiring at Boeing Co. and United Airlines Holdings Inc. is negatively impacting air travel safety.                                     |0.414559              |BA    |Neutral               |0.005755              |20240111T070943|Civil Rights Groups Slam Elon Musk For Blaming Boeing 737 Max 9 Safety Issues On Diversity Hiring: 'Abhorrent And Pathetic'                                   |0.108179             |Financial Markets      |https://www.benzinga.com/news/24/01/36588771/civil-rights-groups-slam-elon-musk-for-blaming-boeing-737-max-9-safety-issues-on-diversity-hiring-ab        |\n",
            "|691  |0 < x <= 1, with a higher score indicating higher relevance.|x <= -0.35: Bearish; -0.35 < x <= -0.15: Somewhat-Bearish; -0.15 < x < 0.15: Neutral; 0.15 <= x < 0.35: Somewhat_Bullish; x >= 0.35: Bullish|https://cdn.benzinga.com/files/images/story/2024/Paris--France---June-16--2023-Elon-Musk-_6.jpeg?width=1200&height=800&fit=crop|General               |Neutral                |-0.087502              |Benzinga         |www.benzinga.com         |In a recent turn of events, prominent civil rights organizations have criticized Elon Musk for his comments suggesting that diversity hiring at Boeing Co. and United Airlines Holdings Inc. is negatively impacting air travel safety.                                     |0.414559              |BA    |Neutral               |0.005755              |20240111T070943|Civil Rights Groups Slam Elon Musk For Blaming Boeing 737 Max 9 Safety Issues On Diversity Hiring: 'Abhorrent And Pathetic'                                   |0.5                  |Manufacturing          |https://www.benzinga.com/news/24/01/36588771/civil-rights-groups-slam-elon-musk-for-blaming-boeing-737-max-9-safety-issues-on-diversity-hiring-ab        |\n",
            "|691  |0 < x <= 1, with a higher score indicating higher relevance.|x <= -0.35: Bearish; -0.35 < x <= -0.15: Somewhat-Bearish; -0.15 < x < 0.15: Neutral; 0.15 <= x < 0.35: Somewhat_Bullish; x >= 0.35: Bullish|https://cdn.benzinga.com/files/images/story/2024/Paris--France---June-16--2023-Elon-Musk-_6.jpeg?width=1200&height=800&fit=crop|General               |Neutral                |-0.087502              |Benzinga         |www.benzinga.com         |In a recent turn of events, prominent civil rights organizations have criticized Elon Musk for his comments suggesting that diversity hiring at Boeing Co. and United Airlines Holdings Inc. is negatively impacting air travel safety.                                     |0.08687               |TSLA  |Somewhat-Bearish      |-0.17044              |20240111T070943|Civil Rights Groups Slam Elon Musk For Blaming Boeing 737 Max 9 Safety Issues On Diversity Hiring: 'Abhorrent And Pathetic'                                   |0.5                  |Energy & Transportation|https://www.benzinga.com/news/24/01/36588771/civil-rights-groups-slam-elon-musk-for-blaming-boeing-737-max-9-safety-issues-on-diversity-hiring-ab        |\n",
            "|691  |0 < x <= 1, with a higher score indicating higher relevance.|x <= -0.35: Bearish; -0.35 < x <= -0.15: Somewhat-Bearish; -0.15 < x < 0.15: Neutral; 0.15 <= x < 0.35: Somewhat_Bullish; x >= 0.35: Bullish|https://cdn.benzinga.com/files/images/story/2024/Paris--France---June-16--2023-Elon-Musk-_6.jpeg?width=1200&height=800&fit=crop|General               |Neutral                |-0.087502              |Benzinga         |www.benzinga.com         |In a recent turn of events, prominent civil rights organizations have criticized Elon Musk for his comments suggesting that diversity hiring at Boeing Co. and United Airlines Holdings Inc. is negatively impacting air travel safety.                                     |0.08687               |TSLA  |Somewhat-Bearish      |-0.17044              |20240111T070943|Civil Rights Groups Slam Elon Musk For Blaming Boeing 737 Max 9 Safety Issues On Diversity Hiring: 'Abhorrent And Pathetic'                                   |0.108179             |Financial Markets      |https://www.benzinga.com/news/24/01/36588771/civil-rights-groups-slam-elon-musk-for-blaming-boeing-737-max-9-safety-issues-on-diversity-hiring-ab        |\n",
            "|691  |0 < x <= 1, with a higher score indicating higher relevance.|x <= -0.35: Bearish; -0.35 < x <= -0.15: Somewhat-Bearish; -0.15 < x < 0.15: Neutral; 0.15 <= x < 0.35: Somewhat_Bullish; x >= 0.35: Bullish|https://cdn.benzinga.com/files/images/story/2024/Paris--France---June-16--2023-Elon-Musk-_6.jpeg?width=1200&height=800&fit=crop|General               |Neutral                |-0.087502              |Benzinga         |www.benzinga.com         |In a recent turn of events, prominent civil rights organizations have criticized Elon Musk for his comments suggesting that diversity hiring at Boeing Co. and United Airlines Holdings Inc. is negatively impacting air travel safety.                                     |0.08687               |TSLA  |Somewhat-Bearish      |-0.17044              |20240111T070943|Civil Rights Groups Slam Elon Musk For Blaming Boeing 737 Max 9 Safety Issues On Diversity Hiring: 'Abhorrent And Pathetic'                                   |0.5                  |Manufacturing          |https://www.benzinga.com/news/24/01/36588771/civil-rights-groups-slam-elon-musk-for-blaming-boeing-737-max-9-safety-issues-on-diversity-hiring-ab        |\n",
            "|691  |0 < x <= 1, with a higher score indicating higher relevance.|x <= -0.35: Bearish; -0.35 < x <= -0.15: Somewhat-Bearish; -0.15 < x < 0.15: Neutral; 0.15 <= x < 0.35: Somewhat_Bullish; x >= 0.35: Bullish|https://cdn.benzinga.com/files/images/story/2024/Indianapolis---Circa-March-2016-Tesla-Mo.jpeg?width=1200&height=800&fit=crop  |News                  |Neutral                |-0.019455              |Benzinga         |www.benzinga.com         |Tesla, Inc. TSLA will continue to rule the U.S. electric vehicle market, according to tech venture capitalist Gene Munster.                                                                                                                                                 |0.172713              |F     |Somewhat-Bearish      |-0.299291             |20240111T070607|Tesla's Dominance To Continue In 2024, But Traditional Automakers' Move To Slow Down EV Game 'Will Come Back To Haunt Them:' Munster - Tesla  ( NASDAQ:TSLA ) |0.266143             |Financial Markets      |https://www.benzinga.com/analyst-ratings/analyst-color/24/01/36588749/teslas-dominance-to-continue-in-2024-but-traditional-automakers-move-to-slow-down-e|\n",
            "+-----+------------------------------------------------------------+--------------------------------------------------------------------------------------------------------------------------------------------+-------------------------------------------------------------------------------------------------------------------------------+----------------------+-----------------------+-----------------------+-----------------+-------------------------+----------------------------------------------------------------------------------------------------------------------------------------------------------------------------------------------------------------------------------------------------------------------------+----------------------+------+----------------------+----------------------+---------------+--------------------------------------------------------------------------------------------------------------------------------------------------------------+---------------------+-----------------------+---------------------------------------------------------------------------------------------------------------------------------------------------------+\n",
            "only showing top 20 rows\n",
            "\n"
          ]
        }
      ]
    },
    {
      "cell_type": "code",
      "source": [
        "tesladata_df.write.csv(\"/home/tsladataoutput.csv\", header=True, mode=\"overwrite\")"
      ],
      "metadata": {
        "id": "mNStR-Dvsg95"
      },
      "execution_count": 26,
      "outputs": []
    }
  ]
}